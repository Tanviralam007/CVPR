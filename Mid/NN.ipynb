{
  "nbformat": 4,
  "nbformat_minor": 0,
  "metadata": {
    "colab": {
      "provenance": []
    },
    "kernelspec": {
      "name": "python3",
      "display_name": "Python 3"
    },
    "language_info": {
      "name": "python"
    }
  },
  "cells": [
    {
      "cell_type": "markdown",
      "source": [
        "### **Assignment:**\n",
        "take a dataset with two input features (X1, X2) and a target label (Y) that has three distinct classes (0, 1, and 2), and then create a neural network that can learn to predict the correct class for a given pair of input features."
      ],
      "metadata": {
        "id": "JPo-3x4Po0vk"
      }
    },
    {
      "cell_type": "code",
      "execution_count": 1,
      "metadata": {
        "id": "L2gCbS2umZcB"
      },
      "outputs": [],
      "source": [
        "import numpy as np\n",
        "import matplotlib.pyplot as plt\n",
        "import pandas as pd\n",
        "from sklearn.model_selection import train_test_split\n",
        "from sklearn.metrics import accuracy_score, precision_score, recall_score, f1_score, confusion_matrix, roc_curve, auc\n",
        "import seaborn as sns"
      ]
    },
    {
      "cell_type": "code",
      "source": [
        "from google.colab import drive\n",
        "drive.mount('/content/drive')"
      ],
      "metadata": {
        "colab": {
          "base_uri": "https://localhost:8080/"
        },
        "id": "1hDMCpNnncEe",
        "outputId": "2a20d0de-5a52-4ea3-ca0c-8ec5363dda26"
      },
      "execution_count": 2,
      "outputs": [
        {
          "output_type": "stream",
          "name": "stdout",
          "text": [
            "Mounted at /content/drive\n"
          ]
        }
      ]
    },
    {
      "cell_type": "code",
      "source": [
        "df = pd.read_csv('/content/drive/MyDrive/CVPR/data.csv')\n",
        "df.head()"
      ],
      "metadata": {
        "colab": {
          "base_uri": "https://localhost:8080/",
          "height": 206
        },
        "id": "0C0p28oXnoZW",
        "outputId": "8afd46ac-3f8e-46dc-8f3f-2111999bf258"
      },
      "execution_count": 3,
      "outputs": [
        {
          "output_type": "execute_result",
          "data": {
            "text/plain": [
              "    X1   X2  Y\n",
              "0  340  485  0\n",
              "1  440  399  0\n",
              "2  216  164  1\n",
              "3  498   58  0\n",
              "4  498   12  0"
            ],
            "text/html": [
              "\n",
              "  <div id=\"df-480fada6-7950-4479-b30a-6aca6281d38f\" class=\"colab-df-container\">\n",
              "    <div>\n",
              "<style scoped>\n",
              "    .dataframe tbody tr th:only-of-type {\n",
              "        vertical-align: middle;\n",
              "    }\n",
              "\n",
              "    .dataframe tbody tr th {\n",
              "        vertical-align: top;\n",
              "    }\n",
              "\n",
              "    .dataframe thead th {\n",
              "        text-align: right;\n",
              "    }\n",
              "</style>\n",
              "<table border=\"1\" class=\"dataframe\">\n",
              "  <thead>\n",
              "    <tr style=\"text-align: right;\">\n",
              "      <th></th>\n",
              "      <th>X1</th>\n",
              "      <th>X2</th>\n",
              "      <th>Y</th>\n",
              "    </tr>\n",
              "  </thead>\n",
              "  <tbody>\n",
              "    <tr>\n",
              "      <th>0</th>\n",
              "      <td>340</td>\n",
              "      <td>485</td>\n",
              "      <td>0</td>\n",
              "    </tr>\n",
              "    <tr>\n",
              "      <th>1</th>\n",
              "      <td>440</td>\n",
              "      <td>399</td>\n",
              "      <td>0</td>\n",
              "    </tr>\n",
              "    <tr>\n",
              "      <th>2</th>\n",
              "      <td>216</td>\n",
              "      <td>164</td>\n",
              "      <td>1</td>\n",
              "    </tr>\n",
              "    <tr>\n",
              "      <th>3</th>\n",
              "      <td>498</td>\n",
              "      <td>58</td>\n",
              "      <td>0</td>\n",
              "    </tr>\n",
              "    <tr>\n",
              "      <th>4</th>\n",
              "      <td>498</td>\n",
              "      <td>12</td>\n",
              "      <td>0</td>\n",
              "    </tr>\n",
              "  </tbody>\n",
              "</table>\n",
              "</div>\n",
              "    <div class=\"colab-df-buttons\">\n",
              "\n",
              "  <div class=\"colab-df-container\">\n",
              "    <button class=\"colab-df-convert\" onclick=\"convertToInteractive('df-480fada6-7950-4479-b30a-6aca6281d38f')\"\n",
              "            title=\"Convert this dataframe to an interactive table.\"\n",
              "            style=\"display:none;\">\n",
              "\n",
              "  <svg xmlns=\"http://www.w3.org/2000/svg\" height=\"24px\" viewBox=\"0 -960 960 960\">\n",
              "    <path d=\"M120-120v-720h720v720H120Zm60-500h600v-160H180v160Zm220 220h160v-160H400v160Zm0 220h160v-160H400v160ZM180-400h160v-160H180v160Zm440 0h160v-160H620v160ZM180-180h160v-160H180v160Zm440 0h160v-160H620v160Z\"/>\n",
              "  </svg>\n",
              "    </button>\n",
              "\n",
              "  <style>\n",
              "    .colab-df-container {\n",
              "      display:flex;\n",
              "      gap: 12px;\n",
              "    }\n",
              "\n",
              "    .colab-df-convert {\n",
              "      background-color: #E8F0FE;\n",
              "      border: none;\n",
              "      border-radius: 50%;\n",
              "      cursor: pointer;\n",
              "      display: none;\n",
              "      fill: #1967D2;\n",
              "      height: 32px;\n",
              "      padding: 0 0 0 0;\n",
              "      width: 32px;\n",
              "    }\n",
              "\n",
              "    .colab-df-convert:hover {\n",
              "      background-color: #E2EBFA;\n",
              "      box-shadow: 0px 1px 2px rgba(60, 64, 67, 0.3), 0px 1px 3px 1px rgba(60, 64, 67, 0.15);\n",
              "      fill: #174EA6;\n",
              "    }\n",
              "\n",
              "    .colab-df-buttons div {\n",
              "      margin-bottom: 4px;\n",
              "    }\n",
              "\n",
              "    [theme=dark] .colab-df-convert {\n",
              "      background-color: #3B4455;\n",
              "      fill: #D2E3FC;\n",
              "    }\n",
              "\n",
              "    [theme=dark] .colab-df-convert:hover {\n",
              "      background-color: #434B5C;\n",
              "      box-shadow: 0px 1px 3px 1px rgba(0, 0, 0, 0.15);\n",
              "      filter: drop-shadow(0px 1px 2px rgba(0, 0, 0, 0.3));\n",
              "      fill: #FFFFFF;\n",
              "    }\n",
              "  </style>\n",
              "\n",
              "    <script>\n",
              "      const buttonEl =\n",
              "        document.querySelector('#df-480fada6-7950-4479-b30a-6aca6281d38f button.colab-df-convert');\n",
              "      buttonEl.style.display =\n",
              "        google.colab.kernel.accessAllowed ? 'block' : 'none';\n",
              "\n",
              "      async function convertToInteractive(key) {\n",
              "        const element = document.querySelector('#df-480fada6-7950-4479-b30a-6aca6281d38f');\n",
              "        const dataTable =\n",
              "          await google.colab.kernel.invokeFunction('convertToInteractive',\n",
              "                                                    [key], {});\n",
              "        if (!dataTable) return;\n",
              "\n",
              "        const docLinkHtml = 'Like what you see? Visit the ' +\n",
              "          '<a target=\"_blank\" href=https://colab.research.google.com/notebooks/data_table.ipynb>data table notebook</a>'\n",
              "          + ' to learn more about interactive tables.';\n",
              "        element.innerHTML = '';\n",
              "        dataTable['output_type'] = 'display_data';\n",
              "        await google.colab.output.renderOutput(dataTable, element);\n",
              "        const docLink = document.createElement('div');\n",
              "        docLink.innerHTML = docLinkHtml;\n",
              "        element.appendChild(docLink);\n",
              "      }\n",
              "    </script>\n",
              "  </div>\n",
              "\n",
              "\n",
              "    <div id=\"df-7f9f1a21-4d28-417f-90c5-d5dc089d0f08\">\n",
              "      <button class=\"colab-df-quickchart\" onclick=\"quickchart('df-7f9f1a21-4d28-417f-90c5-d5dc089d0f08')\"\n",
              "                title=\"Suggest charts\"\n",
              "                style=\"display:none;\">\n",
              "\n",
              "<svg xmlns=\"http://www.w3.org/2000/svg\" height=\"24px\"viewBox=\"0 0 24 24\"\n",
              "     width=\"24px\">\n",
              "    <g>\n",
              "        <path d=\"M19 3H5c-1.1 0-2 .9-2 2v14c0 1.1.9 2 2 2h14c1.1 0 2-.9 2-2V5c0-1.1-.9-2-2-2zM9 17H7v-7h2v7zm4 0h-2V7h2v10zm4 0h-2v-4h2v4z\"/>\n",
              "    </g>\n",
              "</svg>\n",
              "      </button>\n",
              "\n",
              "<style>\n",
              "  .colab-df-quickchart {\n",
              "      --bg-color: #E8F0FE;\n",
              "      --fill-color: #1967D2;\n",
              "      --hover-bg-color: #E2EBFA;\n",
              "      --hover-fill-color: #174EA6;\n",
              "      --disabled-fill-color: #AAA;\n",
              "      --disabled-bg-color: #DDD;\n",
              "  }\n",
              "\n",
              "  [theme=dark] .colab-df-quickchart {\n",
              "      --bg-color: #3B4455;\n",
              "      --fill-color: #D2E3FC;\n",
              "      --hover-bg-color: #434B5C;\n",
              "      --hover-fill-color: #FFFFFF;\n",
              "      --disabled-bg-color: #3B4455;\n",
              "      --disabled-fill-color: #666;\n",
              "  }\n",
              "\n",
              "  .colab-df-quickchart {\n",
              "    background-color: var(--bg-color);\n",
              "    border: none;\n",
              "    border-radius: 50%;\n",
              "    cursor: pointer;\n",
              "    display: none;\n",
              "    fill: var(--fill-color);\n",
              "    height: 32px;\n",
              "    padding: 0;\n",
              "    width: 32px;\n",
              "  }\n",
              "\n",
              "  .colab-df-quickchart:hover {\n",
              "    background-color: var(--hover-bg-color);\n",
              "    box-shadow: 0 1px 2px rgba(60, 64, 67, 0.3), 0 1px 3px 1px rgba(60, 64, 67, 0.15);\n",
              "    fill: var(--button-hover-fill-color);\n",
              "  }\n",
              "\n",
              "  .colab-df-quickchart-complete:disabled,\n",
              "  .colab-df-quickchart-complete:disabled:hover {\n",
              "    background-color: var(--disabled-bg-color);\n",
              "    fill: var(--disabled-fill-color);\n",
              "    box-shadow: none;\n",
              "  }\n",
              "\n",
              "  .colab-df-spinner {\n",
              "    border: 2px solid var(--fill-color);\n",
              "    border-color: transparent;\n",
              "    border-bottom-color: var(--fill-color);\n",
              "    animation:\n",
              "      spin 1s steps(1) infinite;\n",
              "  }\n",
              "\n",
              "  @keyframes spin {\n",
              "    0% {\n",
              "      border-color: transparent;\n",
              "      border-bottom-color: var(--fill-color);\n",
              "      border-left-color: var(--fill-color);\n",
              "    }\n",
              "    20% {\n",
              "      border-color: transparent;\n",
              "      border-left-color: var(--fill-color);\n",
              "      border-top-color: var(--fill-color);\n",
              "    }\n",
              "    30% {\n",
              "      border-color: transparent;\n",
              "      border-left-color: var(--fill-color);\n",
              "      border-top-color: var(--fill-color);\n",
              "      border-right-color: var(--fill-color);\n",
              "    }\n",
              "    40% {\n",
              "      border-color: transparent;\n",
              "      border-right-color: var(--fill-color);\n",
              "      border-top-color: var(--fill-color);\n",
              "    }\n",
              "    60% {\n",
              "      border-color: transparent;\n",
              "      border-right-color: var(--fill-color);\n",
              "    }\n",
              "    80% {\n",
              "      border-color: transparent;\n",
              "      border-right-color: var(--fill-color);\n",
              "      border-bottom-color: var(--fill-color);\n",
              "    }\n",
              "    90% {\n",
              "      border-color: transparent;\n",
              "      border-bottom-color: var(--fill-color);\n",
              "    }\n",
              "  }\n",
              "</style>\n",
              "\n",
              "      <script>\n",
              "        async function quickchart(key) {\n",
              "          const quickchartButtonEl =\n",
              "            document.querySelector('#' + key + ' button');\n",
              "          quickchartButtonEl.disabled = true;  // To prevent multiple clicks.\n",
              "          quickchartButtonEl.classList.add('colab-df-spinner');\n",
              "          try {\n",
              "            const charts = await google.colab.kernel.invokeFunction(\n",
              "                'suggestCharts', [key], {});\n",
              "          } catch (error) {\n",
              "            console.error('Error during call to suggestCharts:', error);\n",
              "          }\n",
              "          quickchartButtonEl.classList.remove('colab-df-spinner');\n",
              "          quickchartButtonEl.classList.add('colab-df-quickchart-complete');\n",
              "        }\n",
              "        (() => {\n",
              "          let quickchartButtonEl =\n",
              "            document.querySelector('#df-7f9f1a21-4d28-417f-90c5-d5dc089d0f08 button');\n",
              "          quickchartButtonEl.style.display =\n",
              "            google.colab.kernel.accessAllowed ? 'block' : 'none';\n",
              "        })();\n",
              "      </script>\n",
              "    </div>\n",
              "\n",
              "    </div>\n",
              "  </div>\n"
            ],
            "application/vnd.google.colaboratory.intrinsic+json": {
              "type": "dataframe",
              "variable_name": "df",
              "summary": "{\n  \"name\": \"df\",\n  \"rows\": 500,\n  \"fields\": [\n    {\n      \"column\": \"X1\",\n      \"properties\": {\n        \"dtype\": \"number\",\n        \"std\": 142,\n        \"min\": 2,\n        \"max\": 499,\n        \"num_unique_values\": 323,\n        \"samples\": [\n          382,\n          329,\n          435\n        ],\n        \"semantic_type\": \"\",\n        \"description\": \"\"\n      }\n    },\n    {\n      \"column\": \"X2\",\n      \"properties\": {\n        \"dtype\": \"number\",\n        \"std\": 145,\n        \"min\": 1,\n        \"max\": 499,\n        \"num_unique_values\": 329,\n        \"samples\": [\n          318,\n          113,\n          367\n        ],\n        \"semantic_type\": \"\",\n        \"description\": \"\"\n      }\n    },\n    {\n      \"column\": \"Y\",\n      \"properties\": {\n        \"dtype\": \"number\",\n        \"std\": 1,\n        \"min\": 0,\n        \"max\": 4,\n        \"num_unique_values\": 5,\n        \"samples\": [\n          1,\n          4,\n          3\n        ],\n        \"semantic_type\": \"\",\n        \"description\": \"\"\n      }\n    }\n  ]\n}"
            }
          },
          "metadata": {},
          "execution_count": 3
        }
      ]
    },
    {
      "cell_type": "code",
      "source": [
        "df.shape"
      ],
      "metadata": {
        "colab": {
          "base_uri": "https://localhost:8080/"
        },
        "id": "lq7CAXeEn1hv",
        "outputId": "1b4a7e8c-efe8-45cf-fae6-f3e370b1adfa"
      },
      "execution_count": 4,
      "outputs": [
        {
          "output_type": "execute_result",
          "data": {
            "text/plain": [
              "(500, 3)"
            ]
          },
          "metadata": {},
          "execution_count": 4
        }
      ]
    },
    {
      "cell_type": "code",
      "source": [
        "df.info()"
      ],
      "metadata": {
        "colab": {
          "base_uri": "https://localhost:8080/"
        },
        "id": "5717Uyo0qvZx",
        "outputId": "20bde3cb-b443-4677-dc65-f9a7c4bec4ac"
      },
      "execution_count": 5,
      "outputs": [
        {
          "output_type": "stream",
          "name": "stdout",
          "text": [
            "<class 'pandas.core.frame.DataFrame'>\n",
            "RangeIndex: 500 entries, 0 to 499\n",
            "Data columns (total 3 columns):\n",
            " #   Column  Non-Null Count  Dtype\n",
            "---  ------  --------------  -----\n",
            " 0   X1      500 non-null    int64\n",
            " 1   X2      500 non-null    int64\n",
            " 2   Y       500 non-null    int64\n",
            "dtypes: int64(3)\n",
            "memory usage: 11.8 KB\n"
          ]
        }
      ]
    },
    {
      "cell_type": "markdown",
      "source": [
        "Normalization"
      ],
      "metadata": {
        "id": "r842gS3prm4o"
      }
    },
    {
      "cell_type": "code",
      "source": [
        "def normalize(input, num_of_classes):\n",
        "    vec = [0] * num_of_classes\n",
        "    if 0 <= input < num_of_classes:\n",
        "        vec[input] = 1\n",
        "    return vec"
      ],
      "metadata": {
        "id": "DtTdvmQJrlW7"
      },
      "execution_count": 6,
      "outputs": []
    },
    {
      "cell_type": "code",
      "source": [
        "X_1 = df['X1'].values.tolist()\n",
        "X_2 = df['X2'].values.tolist()\n",
        "Y = df['Y'].values.tolist()"
      ],
      "metadata": {
        "id": "Vvi6MZBZsr1n"
      },
      "execution_count": 7,
      "outputs": []
    },
    {
      "cell_type": "code",
      "source": [
        "X_1 = np.array(X_1)\n",
        "X_2 = np.array(X_2)\n",
        "Y = np.array(Y)"
      ],
      "metadata": {
        "id": "Q78972kPtEl7"
      },
      "execution_count": 8,
      "outputs": []
    },
    {
      "cell_type": "markdown",
      "source": [
        "Scatter plot by class"
      ],
      "metadata": {
        "id": "E5kJDpPytjyb"
      }
    },
    {
      "cell_type": "code",
      "source": [
        "plt.figure(figsize=(12, 10))\n",
        "plt.scatter(X_1[Y == 0], X_2[Y == 0], label='Class 0', marker='o', color='black')\n",
        "plt.scatter(X_1[Y == 1], X_2[Y == 1], label='Class 1', marker='x', color='red')\n",
        "plt.scatter(X_1[Y == 2], X_2[Y == 2], label='Class 2', marker='^', color='green')\n",
        "plt.xlabel('X1')\n",
        "plt.ylabel('X2')\n",
        "plt.title('Scatter Plot by Class')\n",
        "plt.legend()\n",
        "plt.show()"
      ],
      "metadata": {
        "colab": {
          "base_uri": "https://localhost:8080/",
          "height": 872
        },
        "id": "fTFjObwAtbfo",
        "outputId": "86a9e293-a9e9-4701-ca89-8c42c6d328e7"
      },
      "execution_count": 82,
      "outputs": [
        {
          "output_type": "display_data",
          "data": {
            "text/plain": [
              "<Figure size 1200x1000 with 1 Axes>"
            ],
            "image/png": "[encoded data removed]"
          },
          "metadata": {}
        }
      ]
    },
    {
      "cell_type": "code",
      "source": [
        "feat = list(zip(X_1, X_2))\n",
        "feat_np = np.array(feat)"
      ],
      "metadata": {
        "id": "ojCZxesyuzXJ"
      },
      "execution_count": 10,
      "outputs": []
    },
    {
      "cell_type": "code",
      "source": [
        "Y_ = []\n",
        "for i in Y:\n",
        "  Y_.append(normalize(i, 3))\n",
        "Y_ = np.array(Y_)"
      ],
      "metadata": {
        "id": "MZK4vlPYzXW_"
      },
      "execution_count": 11,
      "outputs": []
    },
    {
      "cell_type": "markdown",
      "source": [
        "Train Test Spilt"
      ],
      "metadata": {
        "id": "7v-pRLO-PgE7"
      }
    },
    {
      "cell_type": "code",
      "metadata": {
        "colab": {
          "base_uri": "https://localhost:8080/"
        },
        "id": "05b719f3",
        "outputId": "e2461a1b-1289-43b6-a5fa-6d19f8cc6554"
      },
      "source": [
        "X_train, X_test, y_train, y_test = train_test_split(feat_np, Y_, test_size=0.2, random_state=42)\n",
        "\n",
        "print(\"Training set shape:\", X_train.shape)\n",
        "print(\"Test set shape:\", X_test.shape)"
      ],
      "execution_count": 12,
      "outputs": [
        {
          "output_type": "stream",
          "name": "stdout",
          "text": [
            "Training set shape: (400, 2)\n",
            "Test set shape: (100, 2)\n"
          ]
        }
      ]
    },
    {
      "cell_type": "code",
      "source": [
        "X_train.shape, X_test.shape"
      ],
      "metadata": {
        "colab": {
          "base_uri": "https://localhost:8080/"
        },
        "id": "z86e0Gfg2IN2",
        "outputId": "5bf6228e-bd82-4627-a83f-8431149688f0"
      },
      "execution_count": 13,
      "outputs": [
        {
          "output_type": "execute_result",
          "data": {
            "text/plain": [
              "((400, 2), (100, 2))"
            ]
          },
          "metadata": {},
          "execution_count": 13
        }
      ]
    },
    {
      "cell_type": "markdown",
      "source": [
        "NN Class"
      ],
      "metadata": {
        "id": "khNIMMn732Xj"
      }
    },
    {
      "cell_type": "code",
      "source": [
        "class NN:\n",
        "    def __init__(self, input_layer_neurons=2, hidden_layer_1_neurons=30,\n",
        "                 hidden_layer_2_neurons=30, hidden_layer_3_neurons=30,\n",
        "                 output_layer_neurons=3, learning_rate=0.001, activation_layer = 'relu'):\n",
        "        self.learning_rate = learning_rate\n",
        "\n",
        "        # weights\n",
        "        self.W_H1I = np.random.randn(input_layer_neurons, hidden_layer_1_neurons) * 0.1\n",
        "        self.W_H2H1 = np.random.randn(hidden_layer_1_neurons, hidden_layer_2_neurons) * 0.1\n",
        "        self.W_H3H2 = np.random.randn(hidden_layer_2_neurons, hidden_layer_3_neurons) * 0.1\n",
        "        self.W_OH3 = np.random.randn(hidden_layer_3_neurons, output_layer_neurons) * 0.1\n",
        "\n",
        "        # biases\n",
        "        self.biases = [\n",
        "            np.zeros(hidden_layer_1_neurons),\n",
        "            np.zeros(hidden_layer_2_neurons),\n",
        "            np.zeros(hidden_layer_3_neurons),\n",
        "            np.zeros(output_layer_neurons)\n",
        "        ]\n",
        "\n",
        "    # relu for hidden layers\n",
        "    def relu(self, x, der=False):\n",
        "        if der:\n",
        "            return (x > 0).astype(float)\n",
        "        return np.maximum(0, x)\n",
        "\n",
        "    # softmax for output layer\n",
        "    def softmax(self, x):\n",
        "        exp_x = np.exp(x - np.max(x, axis=1, keepdims=True))\n",
        "        return exp_x / np.sum(exp_x, axis=1, keepdims=True)\n",
        "\n",
        "    # FORWARD PROPAGATION\n",
        "    def feedForward(self, X):\n",
        "        self.hidden1_input = np.dot(X, self.W_H1I) + self.biases[0]\n",
        "        self.hidden1_output = self.relu(self.hidden1_input)\n",
        "\n",
        "        self.hidden2_input = np.dot(self.hidden1_output, self.W_H2H1) + self.biases[1]\n",
        "        self.hidden2_output = self.relu(self.hidden2_input)\n",
        "\n",
        "        self.hidden3_input = np.dot(self.hidden2_output, self.W_H3H2) + self.biases[2]\n",
        "        self.hidden3_output = self.relu(self.hidden3_input)\n",
        "\n",
        "        self.output_input = np.dot(self.hidden3_output, self.W_OH3) + self.biases[3]\n",
        "        self.output = self.softmax(self.output_input)\n",
        "\n",
        "        return self.output\n",
        "\n",
        "    # cross-entropy loss\n",
        "    def compute_loss(self, Y, pred):\n",
        "        m = Y.shape[0]\n",
        "        return -np.sum(Y * np.log(pred + 1e-9)) / m\n",
        "\n",
        "    # BACKPROPAGATION\n",
        "    def backPropagation(self, X, Y, pred):\n",
        "        m = X.shape[0]\n",
        "\n",
        "        # Output layer delta (softmax + cross-entropy)\n",
        "        output_delta = (pred - Y) / m  # shape (batch_size, output_neurons)\n",
        "\n",
        "        # Hidden layers deltas\n",
        "        hidden3_error = np.dot(output_delta, self.W_OH3.T)\n",
        "        hidden3_delta = hidden3_error * self.relu(self.hidden3_output, der=True)\n",
        "\n",
        "        hidden2_error = np.dot(hidden3_delta, self.W_H3H2.T)\n",
        "        hidden2_delta = hidden2_error * self.relu(self.hidden2_output, der=True)\n",
        "\n",
        "        hidden1_error = np.dot(hidden2_delta, self.W_H2H1.T)\n",
        "        hidden1_delta = hidden1_error * self.relu(self.hidden1_output, der=True)\n",
        "\n",
        "        # update weights\n",
        "        self.W_OH3 -= self.learning_rate * np.dot(self.hidden3_output.T, output_delta)\n",
        "        self.W_H3H2 -= self.learning_rate * np.dot(self.hidden2_output.T, hidden3_delta)\n",
        "        self.W_H2H1 -= self.learning_rate * np.dot(self.hidden1_output.T, hidden2_delta)\n",
        "        self.W_H1I -= self.learning_rate * np.dot(X.T, hidden1_delta)\n",
        "\n",
        "        # update biases\n",
        "        self.biases[3] -= self.learning_rate * np.sum(output_delta, axis=0)\n",
        "        self.biases[2] -= self.learning_rate * np.sum(hidden3_delta, axis=0)\n",
        "        self.biases[1] -= self.learning_rate * np.sum(hidden2_delta, axis=0)\n",
        "        self.biases[0] -= self.learning_rate * np.sum(hidden1_delta, axis=0)\n",
        "\n",
        "    def fit(self, X_train, Y_train, epochs, log_interval):\n",
        "        self.train_loss_history = []\n",
        "        self.x_axis = []\n",
        "\n",
        "        for epoch in range(epochs):\n",
        "            pred_train = self.feedForward(X_train)\n",
        "            self.backPropagation(X_train, Y_train, pred_train)\n",
        "\n",
        "            if epoch % log_interval == 0:\n",
        "                train_loss = self.compute_loss(Y_train, pred_train)\n",
        "                self.train_loss_history.append(train_loss)\n",
        "                self.x_axis.append(epoch)\n",
        "                print(f\"Epoch {epoch}   | Train Loss: {train_loss:.4f}\")\n",
        "\n",
        "    def predict(self, X):\n",
        "        pred = self.feedForward(X)\n",
        "        return np.argmax(pred, axis=1)"
      ],
      "metadata": {
        "id": "gxk5r4Ek2Nu8"
      },
      "execution_count": 18,
      "outputs": []
    },
    {
      "cell_type": "code",
      "source": [
        "nn_final = NN(learning_rate=0.0001)\n",
        "nn_final.fit(X_train, y_train, epochs=100000, log_interval=10000)"
      ],
      "metadata": {
        "colab": {
          "base_uri": "https://localhost:8080/"
        },
        "id": "Q7tAQrkW5wTu",
        "outputId": "f8ecc3f9-c1a4-482e-8592-c3e2c7e98025"
      },
      "execution_count": 19,
      "outputs": [
        {
          "output_type": "stream",
          "name": "stdout",
          "text": [
            "Epoch 0   | Train Loss: 1.4516\n",
            "Epoch 10000   | Train Loss: 0.7741\n",
            "Epoch 20000   | Train Loss: 0.7483\n",
            "Epoch 30000   | Train Loss: 0.7300\n",
            "Epoch 40000   | Train Loss: 0.7168\n",
            "Epoch 50000   | Train Loss: 0.7070\n",
            "Epoch 60000   | Train Loss: 0.6996\n",
            "Epoch 70000   | Train Loss: 0.6940\n",
            "Epoch 80000   | Train Loss: 0.6897\n",
            "Epoch 90000   | Train Loss: 0.6863\n"
          ]
        }
      ]
    },
    {
      "cell_type": "code",
      "source": [
        "plt.figure(figsize=(10, 8))\n",
        "plt.plot(nn_final.x_axis, nn_final.train_loss_history)\n",
        "plt.xlabel(\"Epochs\")\n",
        "plt.ylabel(\"Train Loss\")\n",
        "plt.title(\"Training Loss Over Epochs\")\n",
        "plt.xlim(0, 100000)\n",
        "plt.ylim(0.6, 1.5)\n",
        "plt.xticks(range(0, 100001, 10000))\n",
        "plt.yticks(np.arange(0.6, 1.51, 0.1))\n",
        "plt.show()"
      ],
      "metadata": {
        "colab": {
          "base_uri": "https://localhost:8080/",
          "height": 718
        },
        "id": "D1D80e6mCpA4",
        "outputId": "b3b55c5b-f6b1-4417-eeb4-6f12a1b75d6a"
      },
      "execution_count": 28,
      "outputs": [
        {
          "output_type": "display_data",
          "data": {
            "text/plain": [
              "<Figure size 1000x800 with 1 Axes>"
            ],
            "image/png": "[encoded data removed]"
          },
          "metadata": {}
        }
      ]
    },
    {
      "cell_type": "code",
      "source": [
        "y_pred_test = nn_final.predict(X_test)\n",
        "y_true_test = np.argmax(y_test, axis=1)\n",
        "accuracy = np.mean(y_pred_test == y_true_test)\n",
        "print(f\"Test Accuracy: {accuracy:.2f}\")"
      ],
      "metadata": {
        "colab": {
          "base_uri": "https://localhost:8080/"
        },
        "id": "1oqb7naOD2C8",
        "outputId": "b3596178-ef2d-4298-ecfc-9ce36d718fbb"
      },
      "execution_count": 31,
      "outputs": [
        {
          "output_type": "stream",
          "name": "stdout",
          "text": [
            "Test Accuracy: 0.81\n"
          ]
        }
      ]
    },
    {
      "cell_type": "code",
      "metadata": {
        "id": "Dg5jW22yUv_P"
      },
      "source": [
        "def getProb(pred):\n",
        "    return {f'Class-{index}': p*100 for index, p in enumerate(pred)}\n",
        "\n",
        "def getClass(dict):\n",
        "  max_key = max(dict, key=dict.get)\n",
        "  return (max_key)"
      ],
      "execution_count": 43,
      "outputs": []
    },
    {
      "cell_type": "code",
      "metadata": {
        "colab": {
          "base_uri": "https://localhost:8080/"
        },
        "id": "88d470b2",
        "outputId": "9d3771e2-919a-4bb1-f5cf-2734c2c94c18"
      },
      "source": [
        "input_data = np.array([[77, 1]])\n",
        "pred = nn_final.feedForward(input_data)\n",
        "\n",
        "probabilities = pred[0]\n",
        "probability_dict = getProb(probabilities)\n",
        "predicted_class = getClass(probability_dict)\n",
        "\n",
        "print(\"Prediction Output:\")\n",
        "print(f\"Raw Probabilities: {probabilities}\")\n",
        "print(\"\\nClass Probabilities:\")\n",
        "for class_name, probability in probability_dict.items():\n",
        "    print(f\"  {class_name}: {probability:.2f}%\")\n",
        "\n",
        "print(f\"\\nPredicted Class: {predicted_class}\")"
      ],
      "execution_count": 73,
      "outputs": [
        {
          "output_type": "stream",
          "name": "stdout",
          "text": [
            "Prediction Output:\n",
            "Raw Probabilities: [0.76661351 0.09096766 0.14241883]\n",
            "\n",
            "Class Probabilities:\n",
            "  Class-0: 76.66%\n",
            "  Class-1: 9.10%\n",
            "  Class-2: 14.24%\n",
            "\n",
            "Predicted Class: Class-0\n"
          ]
        }
      ]
    },
    {
      "cell_type": "code",
      "metadata": {
        "colab": {
          "base_uri": "https://localhost:8080/"
        },
        "id": "eaa56797",
        "outputId": "98656088-8635-4112-9f95-411a9804c403"
      },
      "source": [
        "predictions = nn_final.feedForward(X_test)\n",
        "\n",
        "y_true_labels = np.argmax(y_test, axis=1)\n",
        "y_pred_labels = np.argmax(predictions, axis=1)\n",
        "\n",
        "accuracy = accuracy_score(y_true_labels, y_pred_labels)\n",
        "print(f\"Total Accuracy: {accuracy:.4f}\")\n",
        "\n",
        "precision = precision_score(y_true_labels, y_pred_labels, average=None, zero_division=0)\n",
        "print(\"Precision for each class:\")\n",
        "for i, score in enumerate(precision):\n",
        "    print(f\"Class {i}: {score:.4f}\")\n",
        "\n",
        "recall = recall_score(y_true_labels, y_pred_labels, average='macro')\n",
        "print(f\"Recall (macro average): {recall:.4f}\")\n",
        "\n",
        "f1 = f1_score(y_true_labels, y_pred_labels, average='macro')\n",
        "print(f\"F1 Score (macro average): {f1:.4f}\")"
      ],
      "execution_count": 78,
      "outputs": [
        {
          "output_type": "stream",
          "name": "stdout",
          "text": [
            "Total Accuracy: 0.8100\n",
            "Precision for each class:\n",
            "Class 0: 0.8100\n",
            "Class 1: 0.0000\n",
            "Class 2: 0.0000\n",
            "Recall (macro average): 0.3333\n",
            "F1 Score (macro average): 0.2983\n"
          ]
        }
      ]
    }
  ]
}